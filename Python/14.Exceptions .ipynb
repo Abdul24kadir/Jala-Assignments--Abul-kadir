{
 "cells": [
  {
   "cell_type": "markdown",
   "id": "4845174d",
   "metadata": {},
   "source": [
    "# 14.Exceptions "
   ]
  },
  {
   "cell_type": "markdown",
   "id": "92e35ac9",
   "metadata": {},
   "source": [
    "### 1. Write a program to generate Arithmetic Exception without exception handling \n"
   ]
  },
  {
   "cell_type": "code",
   "execution_count": 1,
   "id": "0836e4bc",
   "metadata": {},
   "outputs": [
    {
     "ename": "ZeroDivisionError",
     "evalue": "division by zero",
     "output_type": "error",
     "traceback": [
      "\u001b[1;31m---------------------------------------------------------------------------\u001b[0m",
      "\u001b[1;31mZeroDivisionError\u001b[0m                         Traceback (most recent call last)",
      "Cell \u001b[1;32mIn[1], line 4\u001b[0m\n\u001b[0;32m      2\u001b[0m a \u001b[38;5;241m=\u001b[39m \u001b[38;5;241m10\u001b[39m\n\u001b[0;32m      3\u001b[0m b \u001b[38;5;241m=\u001b[39m \u001b[38;5;241m0\u001b[39m\n\u001b[1;32m----> 4\u001b[0m c \u001b[38;5;241m=\u001b[39m a \u001b[38;5;241m/\u001b[39m b\n\u001b[0;32m      5\u001b[0m \u001b[38;5;28mprint\u001b[39m(c)\n",
      "\u001b[1;31mZeroDivisionError\u001b[0m: division by zero"
     ]
    }
   ],
   "source": [
    "# This will raise a ZeroDivisionError\n",
    "a = 10\n",
    "b = 0\n",
    "c = a / b\n",
    "print(c)\n"
   ]
  },
  {
   "cell_type": "markdown",
   "id": "09ef16d0",
   "metadata": {},
   "source": [
    "### 2. Handle the Arithmetic exception using try-catch block \n"
   ]
  },
  {
   "cell_type": "code",
   "execution_count": 2,
   "id": "bc380a8d",
   "metadata": {},
   "outputs": [
    {
     "name": "stdout",
     "output_type": "stream",
     "text": [
      "Cannot divide by zero.\n"
     ]
    }
   ],
   "source": [
    "try:\n",
    "    a = 10\n",
    "    b = 0\n",
    "    c = a / b\n",
    "except ZeroDivisionError:\n",
    "    print(\"Cannot divide by zero.\")\n"
   ]
  },
  {
   "cell_type": "markdown",
   "id": "18a10e37",
   "metadata": {},
   "source": [
    "### 3. Write a method which throws exception, Call that method in main class without try block \n"
   ]
  },
  {
   "cell_type": "code",
   "execution_count": 3,
   "id": "a40029c0",
   "metadata": {},
   "outputs": [
    {
     "ename": "ZeroDivisionError",
     "evalue": "Division by zero occurred.",
     "output_type": "error",
     "traceback": [
      "\u001b[1;31m---------------------------------------------------------------------------\u001b[0m",
      "\u001b[1;31mZeroDivisionError\u001b[0m                         Traceback (most recent call last)",
      "Cell \u001b[1;32mIn[3], line 5\u001b[0m\n\u001b[0;32m      2\u001b[0m     \u001b[38;5;28;01mraise\u001b[39;00m \u001b[38;5;167;01mZeroDivisionError\u001b[39;00m(\u001b[38;5;124m\"\u001b[39m\u001b[38;5;124mDivision by zero occurred.\u001b[39m\u001b[38;5;124m\"\u001b[39m)\n\u001b[0;32m      4\u001b[0m \u001b[38;5;66;03m# Calling it — will raise an error without handling\u001b[39;00m\n\u001b[1;32m----> 5\u001b[0m risky_method()\n",
      "Cell \u001b[1;32mIn[3], line 2\u001b[0m, in \u001b[0;36mrisky_method\u001b[1;34m()\u001b[0m\n\u001b[0;32m      1\u001b[0m \u001b[38;5;28;01mdef\u001b[39;00m \u001b[38;5;21mrisky_method\u001b[39m():\n\u001b[1;32m----> 2\u001b[0m     \u001b[38;5;28;01mraise\u001b[39;00m \u001b[38;5;167;01mZeroDivisionError\u001b[39;00m(\u001b[38;5;124m\"\u001b[39m\u001b[38;5;124mDivision by zero occurred.\u001b[39m\u001b[38;5;124m\"\u001b[39m)\n",
      "\u001b[1;31mZeroDivisionError\u001b[0m: Division by zero occurred."
     ]
    }
   ],
   "source": [
    "def risky_method():\n",
    "    raise ZeroDivisionError(\"Division by zero occurred.\")\n",
    "\n",
    "# Calling it — will raise an error without handling\n",
    "risky_method()\n"
   ]
  },
  {
   "cell_type": "markdown",
   "id": "d99ba2b6",
   "metadata": {},
   "source": [
    "### 4. Write a program with multiple catch blocks \n"
   ]
  },
  {
   "cell_type": "code",
   "execution_count": 4,
   "id": "3587404f",
   "metadata": {},
   "outputs": [
    {
     "name": "stdout",
     "output_type": "stream",
     "text": [
      "Enter number: 56\n",
      "Enter divisor: 56\n",
      "1.0\n"
     ]
    }
   ],
   "source": [
    "try:\n",
    "    a = int(input(\"Enter number: \"))\n",
    "    b = int(input(\"Enter divisor: \"))\n",
    "    print(a / b)\n",
    "except ZeroDivisionError:\n",
    "    print(\"Division by zero is not allowed.\")\n",
    "except ValueError:\n",
    "    print(\"Invalid input. Enter numbers only.\")\n",
    "except Exception as e:\n",
    "    print(\"Something went wrong:\", e)\n"
   ]
  },
  {
   "cell_type": "markdown",
   "id": "4349a3b9",
   "metadata": {},
   "source": [
    "### 5. Write a program to throw exception with your own message \n",
    "\n"
   ]
  },
  {
   "cell_type": "code",
   "execution_count": 5,
   "id": "ba1bf36c",
   "metadata": {},
   "outputs": [
    {
     "name": "stdout",
     "output_type": "stream",
     "text": [
      "This is my custom error message.\n"
     ]
    }
   ],
   "source": [
    "try:\n",
    "    raise ValueError(\"This is my custom error message.\")\n",
    "except ValueError as e:\n",
    "    print(e)\n"
   ]
  },
  {
   "cell_type": "markdown",
   "id": "067d4f7f",
   "metadata": {},
   "source": [
    "### 6. Write a program to create your own exception "
   ]
  },
  {
   "cell_type": "code",
   "execution_count": 6,
   "id": "ff54c7d0",
   "metadata": {},
   "outputs": [
    {
     "name": "stdout",
     "output_type": "stream",
     "text": [
      "This is a custom exception.\n"
     ]
    }
   ],
   "source": [
    "class MyException(Exception):\n",
    "    pass\n",
    "\n",
    "try:\n",
    "    raise MyException(\"This is a custom exception.\")\n",
    "except MyException as e:\n",
    "    print(e)\n"
   ]
  },
  {
   "cell_type": "markdown",
   "id": "62152f58",
   "metadata": {},
   "source": [
    "### 7. Write a program with finally block \n"
   ]
  },
  {
   "cell_type": "code",
   "execution_count": 7,
   "id": "9dfaca6f",
   "metadata": {},
   "outputs": [
    {
     "name": "stdout",
     "output_type": "stream",
     "text": [
      "Handled division by zero.\n",
      "This will always execute.\n"
     ]
    }
   ],
   "source": [
    "try:\n",
    "    a = 10 / 0\n",
    "except ZeroDivisionError:\n",
    "    print(\"Handled division by zero.\")\n",
    "finally:\n",
    "    print(\"This will always execute.\")\n"
   ]
  },
  {
   "cell_type": "markdown",
   "id": "c19dcb89",
   "metadata": {},
   "source": [
    "### 8. Write a program to generate Arithmetic Exception \n"
   ]
  },
  {
   "cell_type": "code",
   "execution_count": 8,
   "id": "98428d1b",
   "metadata": {},
   "outputs": [
    {
     "ename": "ZeroDivisionError",
     "evalue": "division by zero",
     "output_type": "error",
     "traceback": [
      "\u001b[1;31m---------------------------------------------------------------------------\u001b[0m",
      "\u001b[1;31mZeroDivisionError\u001b[0m                         Traceback (most recent call last)",
      "Cell \u001b[1;32mIn[8], line 3\u001b[0m\n\u001b[0;32m      1\u001b[0m a \u001b[38;5;241m=\u001b[39m \u001b[38;5;241m10\u001b[39m\n\u001b[0;32m      2\u001b[0m b \u001b[38;5;241m=\u001b[39m \u001b[38;5;241m0\u001b[39m\n\u001b[1;32m----> 3\u001b[0m \u001b[38;5;28mprint\u001b[39m(a \u001b[38;5;241m/\u001b[39m b)\n",
      "\u001b[1;31mZeroDivisionError\u001b[0m: division by zero"
     ]
    }
   ],
   "source": [
    "a = 10\n",
    "b = 0\n",
    "print(a / b)\n"
   ]
  },
  {
   "cell_type": "markdown",
   "id": "5a0d4cf3",
   "metadata": {},
   "source": [
    "### 9. Write a program to generate FileNotFoundException \n"
   ]
  },
  {
   "cell_type": "code",
   "execution_count": 9,
   "id": "438e26d7",
   "metadata": {},
   "outputs": [
    {
     "name": "stdout",
     "output_type": "stream",
     "text": [
      "File not found error occurred.\n"
     ]
    }
   ],
   "source": [
    "try:\n",
    "    file = open(\"non_existing_file.txt\", \"r\")\n",
    "except FileNotFoundError:\n",
    "    print(\"File not found error occurred.\")\n"
   ]
  },
  {
   "cell_type": "markdown",
   "id": "ab9b64a9",
   "metadata": {},
   "source": [
    "### 10. Write a program to generate ClassNotFoundException \n"
   ]
  },
  {
   "cell_type": "code",
   "execution_count": 10,
   "id": "26b3e901",
   "metadata": {},
   "outputs": [
    {
     "name": "stdout",
     "output_type": "stream",
     "text": [
      "Class not found (NameError in Python).\n"
     ]
    }
   ],
   "source": [
    "try:\n",
    "    eval(\"NonExistentClass()\")\n",
    "except NameError:\n",
    "    print(\"Class not found (NameError in Python).\")\n"
   ]
  },
  {
   "cell_type": "markdown",
   "id": "1292c742",
   "metadata": {},
   "source": [
    "### 11. Write a program to generate IOException \n"
   ]
  },
  {
   "cell_type": "code",
   "execution_count": 11,
   "id": "0e3ad6de",
   "metadata": {},
   "outputs": [
    {
     "name": "stdout",
     "output_type": "stream",
     "text": [
      "IO Error occurred.\n"
     ]
    }
   ],
   "source": [
    "try:\n",
    "    with open(\"/restricted/file.txt\", \"r\") as file:\n",
    "        content = file.read()\n",
    "except OSError:\n",
    "    print(\"IO Error occurred.\")\n"
   ]
  },
  {
   "cell_type": "markdown",
   "id": "a6e8bd3f",
   "metadata": {},
   "source": [
    "### 12. Write a program to generate NoSuchFieldException"
   ]
  },
  {
   "cell_type": "code",
   "execution_count": 12,
   "id": "fdaf017f",
   "metadata": {},
   "outputs": [
    {
     "name": "stdout",
     "output_type": "stream",
     "text": [
      "No such field exists.\n"
     ]
    }
   ],
   "source": [
    "class Student:\n",
    "    def __init__(self):\n",
    "        self.name = \"Ali\"\n",
    "\n",
    "obj = Student()\n",
    "\n",
    "try:\n",
    "    print(obj.age)\n",
    "except AttributeError:\n",
    "    print(\"No such field exists.\")\n"
   ]
  },
  {
   "cell_type": "code",
   "execution_count": null,
   "id": "1d16d253",
   "metadata": {},
   "outputs": [],
   "source": []
  }
 ],
 "metadata": {
  "kernelspec": {
   "display_name": "Python 3 (ipykernel)",
   "language": "python",
   "name": "python3"
  },
  "language_info": {
   "codemirror_mode": {
    "name": "ipython",
    "version": 3
   },
   "file_extension": ".py",
   "mimetype": "text/x-python",
   "name": "python",
   "nbconvert_exporter": "python",
   "pygments_lexer": "ipython3",
   "version": "3.11.5"
  }
 },
 "nbformat": 4,
 "nbformat_minor": 5
}
