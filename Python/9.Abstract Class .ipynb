{
 "cells": [
  {
   "cell_type": "markdown",
   "id": "c33666d8",
   "metadata": {},
   "source": [
    "# 9.Abstract Class "
   ]
  },
  {
   "cell_type": "markdown",
   "id": "1eabef5a",
   "metadata": {},
   "source": [
    "### 1. Create an abstract class with abstract and non-abstract methods. \n"
   ]
  },
  {
   "cell_type": "code",
   "execution_count": 2,
   "id": "1b5cad7d",
   "metadata": {},
   "outputs": [],
   "source": [
    "from abc import ABC, abstractmethod\n",
    "\n",
    "class Animal(ABC):\n",
    "    def sound(self):  # Non-abstract method\n",
    "        print(\"Animals make different sounds\")\n",
    "\n",
    "    @abstractmethod\n",
    "    def move(self):  # Abstract method\n",
    "        pass\n"
   ]
  },
  {
   "cell_type": "markdown",
   "id": "fdacf6bf",
   "metadata": {},
   "source": [
    "### 2. Create a sub class for an abstract class. Create an object in the child class for the  abstract class and access the non-abstract methods \n"
   ]
  },
  {
   "cell_type": "code",
   "execution_count": 3,
   "id": "1e80380a",
   "metadata": {},
   "outputs": [
    {
     "name": "stdout",
     "output_type": "stream",
     "text": [
      "Animals make different sounds\n"
     ]
    }
   ],
   "source": [
    "class Dog(Animal):\n",
    "    def move(self):  # Implementing abstract method\n",
    "        print(\"Dog runs on four legs\")\n",
    "\n",
    "# Creating object in child class for abstract class and accessing non-abstract method\n",
    "dog_obj = Dog()\n",
    "dog_obj.sound()  # Non-abstract method from Animal\n"
   ]
  },
  {
   "cell_type": "markdown",
   "id": "a326b6d7",
   "metadata": {},
   "source": [
    "### 3. Create an instance for the child class in child class and call abstract methods \n"
   ]
  },
  {
   "cell_type": "code",
   "execution_count": 4,
   "id": "d7133ab1",
   "metadata": {},
   "outputs": [
    {
     "name": "stdout",
     "output_type": "stream",
     "text": [
      "Dog runs on four legs\n"
     ]
    }
   ],
   "source": [
    "dog_obj.move()  # Calls the implemented abstract method\n"
   ]
  },
  {
   "cell_type": "markdown",
   "id": "69c68712",
   "metadata": {},
   "source": [
    "### 4. Create an instance for the child class in child class and call non-abstract methods"
   ]
  },
  {
   "cell_type": "code",
   "execution_count": 5,
   "id": "c92ecdda",
   "metadata": {},
   "outputs": [
    {
     "name": "stdout",
     "output_type": "stream",
     "text": [
      "Animals make different sounds\n"
     ]
    }
   ],
   "source": [
    "dog_obj.sound()  # Calls the inherited non-abstract method\n"
   ]
  },
  {
   "cell_type": "code",
   "execution_count": null,
   "id": "cfa33ca8",
   "metadata": {},
   "outputs": [],
   "source": []
  }
 ],
 "metadata": {
  "kernelspec": {
   "display_name": "Python 3 (ipykernel)",
   "language": "python",
   "name": "python3"
  },
  "language_info": {
   "codemirror_mode": {
    "name": "ipython",
    "version": 3
   },
   "file_extension": ".py",
   "mimetype": "text/x-python",
   "name": "python",
   "nbconvert_exporter": "python",
   "pygments_lexer": "ipython3",
   "version": "3.11.5"
  }
 },
 "nbformat": 4,
 "nbformat_minor": 5
}
