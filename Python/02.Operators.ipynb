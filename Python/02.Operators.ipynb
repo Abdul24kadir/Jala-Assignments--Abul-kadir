{
 "cells": [
  {
   "cell_type": "markdown",
   "id": "ab5ccb1c",
   "metadata": {},
   "source": [
    "# 2.Operators"
   ]
  },
  {
   "cell_type": "markdown",
   "id": "c8d15a61",
   "metadata": {},
   "source": [
    "### 1. Write a function for arithmetic operators(+,-,*,/) "
   ]
  },
  {
   "cell_type": "code",
   "execution_count": 1,
   "id": "0fd23bf8",
   "metadata": {},
   "outputs": [
    {
     "name": "stdout",
     "output_type": "stream",
     "text": [
      "Addition: 15\n",
      "Subtraction: 5\n",
      "Multiplication: 50\n",
      "Division: 2.0\n"
     ]
    }
   ],
   "source": [
    "def arithmetic_operations(a, b):\n",
    "    print(\"Addition:\", a + b)\n",
    "    print(\"Subtraction:\", a - b)\n",
    "    print(\"Multiplication:\", a * b)\n",
    "    print(\"Division:\", a / b)\n",
    "\n",
    "arithmetic_operations(10, 5)"
   ]
  },
  {
   "cell_type": "markdown",
   "id": "2f79e203",
   "metadata": {},
   "source": [
    "### 2. Write a method for increment and decrement operators(++, --) "
   ]
  },
  {
   "cell_type": "code",
   "execution_count": 2,
   "id": "5ac99aca",
   "metadata": {},
   "outputs": [
    {
     "name": "stdout",
     "output_type": "stream",
     "text": [
      "After Increment: 11\n",
      "After Decrement: 10\n"
     ]
    }
   ],
   "source": [
    "def increment_decrement(x):\n",
    "    x += 1\n",
    "    print(\"After Increment:\", x)\n",
    "    x -= 1\n",
    "    print(\"After Decrement:\", x)\n",
    "\n",
    "increment_decrement(10)"
   ]
  },
  {
   "cell_type": "markdown",
   "id": "2cedf2ad",
   "metadata": {},
   "source": [
    "### 3. Write a program to find the two numbers equal or not. "
   ]
  },
  {
   "cell_type": "code",
   "execution_count": 3,
   "id": "8037ebf0",
   "metadata": {},
   "outputs": [
    {
     "name": "stdout",
     "output_type": "stream",
     "text": [
      "Numbers are not equal.\n"
     ]
    }
   ],
   "source": [
    "a=18\n",
    "b= 17\n",
    "if a == b:\n",
    "    print(\"Both numbers are equal.\")\n",
    "else:\n",
    "    print(\"Numbers are not equal.\")"
   ]
  },
  {
   "cell_type": "code",
   "execution_count": 4,
   "id": "c1e325b9",
   "metadata": {},
   "outputs": [
    {
     "name": "stdout",
     "output_type": "stream",
     "text": [
      "Both numbers are equal.\n"
     ]
    }
   ],
   "source": [
    "a=18\n",
    "b= 18\n",
    "if a == b:\n",
    "    print(\"Both numbers are equal.\")\n",
    "else:\n",
    "    print(\"Numbers are not equal.\")"
   ]
  },
  {
   "cell_type": "markdown",
   "id": "3b145552",
   "metadata": {},
   "source": [
    "### 4. Program for relational operators (<,<==, >, >==) "
   ]
  },
  {
   "cell_type": "code",
   "execution_count": 5,
   "id": "d556621e",
   "metadata": {
    "scrolled": false
   },
   "outputs": [
    {
     "name": "stdout",
     "output_type": "stream",
     "text": [
      "a < b: True\n",
      "a <= b: True\n",
      "a > b: False\n",
      "a >= b: False\n"
     ]
    }
   ],
   "source": [
    "def relational_operators(a, b):\n",
    "    print(\"a < b:\", a < b)\n",
    "    print(\"a <= b:\", a <= b)\n",
    "    print(\"a > b:\", a > b)\n",
    "    print(\"a >= b:\", a >= b)\n",
    "\n",
    "\n",
    "relational_operators(10, 20)\n"
   ]
  },
  {
   "cell_type": "markdown",
   "id": "1969f406",
   "metadata": {},
   "source": [
    "### 5. Print the smaller and larger number"
   ]
  },
  {
   "cell_type": "code",
   "execution_count": 10,
   "id": "dd6a1737",
   "metadata": {},
   "outputs": [],
   "source": [
    "def smaller_greater(num1,num2):\n",
    "    if num1>num2 :\n",
    "        print(f\"{num1} is greater than {num2}\")\n",
    "    else :\n",
    "        print(f\"{num1} is smaller than {num2}\")"
   ]
  },
  {
   "cell_type": "code",
   "execution_count": 11,
   "id": "d0336395",
   "metadata": {},
   "outputs": [
    {
     "name": "stdout",
     "output_type": "stream",
     "text": [
      "12 is smaller than 23\n"
     ]
    }
   ],
   "source": [
    "smaller_greater(12,23)"
   ]
  },
  {
   "cell_type": "code",
   "execution_count": 12,
   "id": "8d9b38fe",
   "metadata": {},
   "outputs": [
    {
     "name": "stdout",
     "output_type": "stream",
     "text": [
      "Larger Number: 30\n",
      "Smaller Number: 25\n",
      "Both numbers are equal.\n"
     ]
    }
   ],
   "source": [
    "def find_smaller_larger(a, b):\n",
    "    if a > b:\n",
    "        print(\"Larger Number:\", a)\n",
    "        print(\"Smaller Number:\", b)\n",
    "    elif b > a:\n",
    "        print(\"Larger Number:\", b)\n",
    "        print(\"Smaller Number:\", a)\n",
    "    else:\n",
    "        print(\"Both numbers are equal.\")\n",
    "\n",
    "find_smaller_larger(30, 25)\n",
    "find_smaller_larger(7, 7)\n"
   ]
  },
  {
   "cell_type": "code",
   "execution_count": null,
   "id": "92efd63e",
   "metadata": {},
   "outputs": [],
   "source": []
  }
 ],
 "metadata": {
  "kernelspec": {
   "display_name": "Python 3 (ipykernel)",
   "language": "python",
   "name": "python3"
  },
  "language_info": {
   "codemirror_mode": {
    "name": "ipython",
    "version": 3
   },
   "file_extension": ".py",
   "mimetype": "text/x-python",
   "name": "python",
   "nbconvert_exporter": "python",
   "pygments_lexer": "ipython3",
   "version": "3.11.5"
  }
 },
 "nbformat": 4,
 "nbformat_minor": 5
}
