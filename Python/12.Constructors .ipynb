{
 "cells": [
  {
   "cell_type": "markdown",
   "id": "e1d9d9f8",
   "metadata": {},
   "source": [
    "# 12.Constructors "
   ]
  },
  {
   "cell_type": "markdown",
   "id": "d84ca597",
   "metadata": {},
   "source": [
    "### 1. Write a class with a default constructor, one argument constructor and two argument constructors. Instantiate the class to call all the constructors of that class from a main class \n"
   ]
  },
  {
   "cell_type": "code",
   "execution_count": 1,
   "id": "f3ed08de",
   "metadata": {},
   "outputs": [
    {
     "name": "stdout",
     "output_type": "stream",
     "text": [
      "Default Constructor called.\n",
      "One Argument Constructor called. Value: 10\n",
      "Two Argument Constructor called. Values: 10, 20\n"
     ]
    }
   ],
   "source": [
    "class Example:\n",
    "    def __init__(self, a=None, b=None):\n",
    "        if a is None and b is None:\n",
    "            print(\"Default Constructor called.\")\n",
    "        elif b is None:\n",
    "            print(f\"One Argument Constructor called. Value: {a}\")\n",
    "        else:\n",
    "            print(f\"Two Argument Constructor called. Values: {a}, {b}\")\n",
    "\n",
    "# Main function to call all constructors\n",
    "def main():\n",
    "    obj1 = Example()\n",
    "    obj2 = Example(10)\n",
    "    obj3 = Example(10, 20)\n",
    "\n",
    "main()\n"
   ]
  },
  {
   "cell_type": "markdown",
   "id": "584147a7",
   "metadata": {},
   "source": [
    "### 2. Call the constructors(both default and argument constructors) of super class from a child class \n"
   ]
  },
  {
   "cell_type": "code",
   "execution_count": 2,
   "id": "3f2faa29",
   "metadata": {},
   "outputs": [
    {
     "name": "stdout",
     "output_type": "stream",
     "text": [
      "Parent Default Constructor\n",
      "Child Default Constructor\n",
      "Parent Argument Constructor: 50\n",
      "Child Argument Constructor: 50\n"
     ]
    }
   ],
   "source": [
    "class Parent:\n",
    "    def __init__(self, value=None):\n",
    "        if value is None:\n",
    "            print(\"Parent Default Constructor\")\n",
    "        else:\n",
    "            print(f\"Parent Argument Constructor: {value}\")\n",
    "\n",
    "class Child(Parent):\n",
    "    def __init__(self, value=None):\n",
    "        if value is None:\n",
    "            super().__init__()  # Call parent default constructor\n",
    "            print(\"Child Default Constructor\")\n",
    "        else:\n",
    "            super().__init__(value)  # Call parent argument constructor\n",
    "            print(f\"Child Argument Constructor: {value}\")\n",
    "\n",
    "# Run\n",
    "obj1 = Child()\n",
    "obj2 = Child(50)\n"
   ]
  },
  {
   "cell_type": "markdown",
   "id": "0eef8a26",
   "metadata": {},
   "source": [
    "### 3. Apply private, public, protected and default access modifiers to the constructor \n"
   ]
  },
  {
   "cell_type": "code",
   "execution_count": 3,
   "id": "f13870f9",
   "metadata": {},
   "outputs": [
    {
     "name": "stdout",
     "output_type": "stream",
     "text": [
      "Public Constructor\n",
      "Default Constructor (Python behaves public if not marked)\n",
      "Protected Constructor\n",
      "Private Constructor\n"
     ]
    }
   ],
   "source": [
    "class ModifierExample:\n",
    "    def __init__(self):\n",
    "        print(\"Public Constructor\")\n",
    "\n",
    "    def _protected_constructor(self):\n",
    "        print(\"Protected Constructor\")\n",
    "\n",
    "    def __private_constructor(self):\n",
    "        print(\"Private Constructor\")\n",
    "\n",
    "    def default_constructor(self):\n",
    "        print(\"Default Constructor (Python behaves public if not marked)\")\n",
    "\n",
    "# Create object and call methods\n",
    "obj = ModifierExample()\n",
    "obj.default_constructor()\n",
    "obj._protected_constructor()\n",
    "\n",
    "# Private method accessible using _ClassName__methodname\n",
    "obj._ModifierExample__private_constructor()\n"
   ]
  },
  {
   "cell_type": "markdown",
   "id": "1f030f46",
   "metadata": {},
   "source": [
    "### 4. Write a program which illustrates the concept of attributes of a constructor."
   ]
  },
  {
   "cell_type": "code",
   "execution_count": 4,
   "id": "9d708903",
   "metadata": {},
   "outputs": [
    {
     "name": "stdout",
     "output_type": "stream",
     "text": [
      "Constructor called for Ali with Roll No: 101\n",
      "Name: Ali, Roll No: 101\n",
      "Constructor called for Sara with Roll No: 102\n",
      "Name: Sara, Roll No: 102\n"
     ]
    }
   ],
   "source": [
    "class Student:\n",
    "    def __init__(self, name, roll):\n",
    "        self.name = name  # Attribute\n",
    "        self.roll = roll  # Attribute\n",
    "        print(f\"Constructor called for {self.name} with Roll No: {self.roll}\")\n",
    "\n",
    "    def display(self):\n",
    "        print(f\"Name: {self.name}, Roll No: {self.roll}\")\n",
    "\n",
    "# Create instance\n",
    "student1 = Student(\"Ali\", 101)\n",
    "student1.display()\n",
    "\n",
    "student2 = Student(\"Sara\", 102)\n",
    "student2.display()\n"
   ]
  },
  {
   "cell_type": "code",
   "execution_count": null,
   "id": "31a28b96",
   "metadata": {},
   "outputs": [],
   "source": []
  }
 ],
 "metadata": {
  "kernelspec": {
   "display_name": "Python 3 (ipykernel)",
   "language": "python",
   "name": "python3"
  },
  "language_info": {
   "codemirror_mode": {
    "name": "ipython",
    "version": 3
   },
   "file_extension": ".py",
   "mimetype": "text/x-python",
   "name": "python",
   "nbconvert_exporter": "python",
   "pygments_lexer": "ipython3",
   "version": "3.11.5"
  }
 },
 "nbformat": 4,
 "nbformat_minor": 5
}
