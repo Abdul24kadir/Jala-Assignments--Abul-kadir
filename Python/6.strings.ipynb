{
 "cells": [
  {
   "cell_type": "markdown",
   "id": "8f034609",
   "metadata": {},
   "source": [
    "# 6. strings\n"
   ]
  },
  {
   "cell_type": "markdown",
   "id": "62eafb0d",
   "metadata": {},
   "source": [
    "### 1. Different ways creating a string "
   ]
  },
  {
   "cell_type": "code",
   "execution_count": 1,
   "id": "b6dcee02",
   "metadata": {},
   "outputs": [
    {
     "name": "stdout",
     "output_type": "stream",
     "text": [
      "Hello World Multiline\n",
      "String Using str() function\n"
     ]
    }
   ],
   "source": [
    "str1 = 'Hello'\n",
    "str2 = \"World\"\n",
    "str3 = \"\"\"Multiline\n",
    "String\"\"\"\n",
    "str4 = str(\"Using str() function\")\n",
    "\n",
    "print(str1, str2, str3, str4)\n"
   ]
  },
  {
   "cell_type": "markdown",
   "id": "f62b8eba",
   "metadata": {},
   "source": [
    "### 2. Concatenating two strings using + operator \n"
   ]
  },
  {
   "cell_type": "code",
   "execution_count": 2,
   "id": "cae3ea75",
   "metadata": {},
   "outputs": [
    {
     "name": "stdout",
     "output_type": "stream",
     "text": [
      "Hello World\n"
     ]
    }
   ],
   "source": [
    "a = \"Hello \"\n",
    "b = \"World\"\n",
    "result = a + b\n",
    "print(result) \n"
   ]
  },
  {
   "cell_type": "markdown",
   "id": "e8e5e548",
   "metadata": {},
   "source": [
    "### 3. Finding the length of the string \n"
   ]
  },
  {
   "cell_type": "code",
   "execution_count": 3,
   "id": "0edcae3b",
   "metadata": {},
   "outputs": [
    {
     "name": "stdout",
     "output_type": "stream",
     "text": [
      "11\n"
     ]
    }
   ],
   "source": [
    "text = \"Hello World\"\n",
    "print(len(text)) \n"
   ]
  },
  {
   "cell_type": "markdown",
   "id": "e867ff06",
   "metadata": {},
   "source": [
    "### 4. Extract a string using Substring \n"
   ]
  },
  {
   "cell_type": "code",
   "execution_count": 4,
   "id": "836c6d0c",
   "metadata": {},
   "outputs": [
    {
     "name": "stdout",
     "output_type": "stream",
     "text": [
      "Hello\n"
     ]
    }
   ],
   "source": [
    "text = \"Hello World\"\n",
    "print(text[0:5]) \n"
   ]
  },
  {
   "cell_type": "markdown",
   "id": "1c951f6d",
   "metadata": {},
   "source": [
    "### 5. Searching in strings using index() \n"
   ]
  },
  {
   "cell_type": "code",
   "execution_count": 5,
   "id": "5c68aca1",
   "metadata": {},
   "outputs": [
    {
     "name": "stdout",
     "output_type": "stream",
     "text": [
      "6\n"
     ]
    }
   ],
   "source": [
    "text = \"Hello World\"\n",
    "print(text.index(\"World\"))  \n"
   ]
  },
  {
   "cell_type": "markdown",
   "id": "5ca4f91c",
   "metadata": {},
   "source": [
    "### 6. Matching a String Against a Regular Expression With matches() \n"
   ]
  },
  {
   "cell_type": "code",
   "execution_count": 6,
   "id": "f5d973b8",
   "metadata": {},
   "outputs": [
    {
     "name": "stdout",
     "output_type": "stream",
     "text": [
      "Valid string\n"
     ]
    }
   ],
   "source": [
    "import re\n",
    "\n",
    "text = \"Hello123\"\n",
    "pattern = \"^[A-Za-z0-9]+$\"\n",
    "\n",
    "if re.match(pattern, text):\n",
    "    print(\"Valid string\")\n",
    "else:\n",
    "    print(\"Invalid string\")\n"
   ]
  },
  {
   "cell_type": "markdown",
   "id": "960b3950",
   "metadata": {},
   "source": [
    "### 7. Comparing strings  \n"
   ]
  },
  {
   "cell_type": "code",
   "execution_count": 7,
   "id": "5651afa6",
   "metadata": {},
   "outputs": [
    {
     "name": "stdout",
     "output_type": "stream",
     "text": [
      "False\n",
      "True\n"
     ]
    }
   ],
   "source": [
    "a = \"hello\"\n",
    "b = \"world\"\n",
    "print(a == b)  \n",
    "print(a != b)  \n"
   ]
  },
  {
   "cell_type": "markdown",
   "id": "5dc17fdd",
   "metadata": {},
   "source": [
    "### 8. startsWith(), endsWith() and compareTo() \n"
   ]
  },
  {
   "cell_type": "code",
   "execution_count": 9,
   "id": "54a923fd",
   "metadata": {},
   "outputs": [
    {
     "name": "stdout",
     "output_type": "stream",
     "text": [
      "True\n",
      "True\n"
     ]
    }
   ],
   "source": [
    "text = \"hello world\"\n",
    "print(text.startswith(\"hello\"))  \n",
    "print(text.endswith(\"ld\"))   \n"
   ]
  },
  {
   "cell_type": "markdown",
   "id": "c2986634",
   "metadata": {},
   "source": [
    "### 9. Trimming strings with strip() \n"
   ]
  },
  {
   "cell_type": "code",
   "execution_count": 14,
   "id": "eb2edfb8",
   "metadata": {},
   "outputs": [
    {
     "name": "stdout",
     "output_type": "stream",
     "text": [
      "hello world\n"
     ]
    }
   ],
   "source": [
    "text = \"     hello world   \"\n",
    "print(text.strip()) #removes leading and trailing spaces\n",
    "#lstrip() rstrip()"
   ]
  },
  {
   "cell_type": "markdown",
   "id": "4ea7c204",
   "metadata": {},
   "source": [
    "### 10. Replacing characters in strings with replace() \n"
   ]
  },
  {
   "cell_type": "code",
   "execution_count": 15,
   "id": "58b55063",
   "metadata": {},
   "outputs": [
    {
     "name": "stdout",
     "output_type": "stream",
     "text": [
      "heLLo worLd\n"
     ]
    }
   ],
   "source": [
    "text = \"hello world\"\n",
    "print(text.replace(\"l\", \"L\"))  \n"
   ]
  },
  {
   "cell_type": "markdown",
   "id": "b88f12cc",
   "metadata": {},
   "source": [
    "### 11. Splitting strings with split() \n"
   ]
  },
  {
   "cell_type": "code",
   "execution_count": 18,
   "id": "f08225ea",
   "metadata": {},
   "outputs": [
    {
     "name": "stdout",
     "output_type": "stream",
     "text": [
      "['apple', 'banana', 'grape']\n"
     ]
    }
   ],
   "source": [
    "text = \"apple,banana,grape\"\n",
    "fruits = text.split(\",\")\n",
    "print(fruits) \n"
   ]
  },
  {
   "cell_type": "markdown",
   "id": "4cb0243a",
   "metadata": {},
   "source": [
    "### 12. Converting integer objects to Strings \n"
   ]
  },
  {
   "cell_type": "code",
   "execution_count": 19,
   "id": "d77dcef5",
   "metadata": {},
   "outputs": [
    {
     "name": "stdout",
     "output_type": "stream",
     "text": [
      "123 <class 'str'>\n"
     ]
    }
   ],
   "source": [
    "num = 123\n",
    "num_str = str(num)\n",
    "print(num_str, type(num_str))  # '123' <class 'str'>\n"
   ]
  },
  {
   "cell_type": "markdown",
   "id": "a55c975c",
   "metadata": {},
   "source": [
    "### 13. Converting to uppercase and lowercase"
   ]
  },
  {
   "cell_type": "code",
   "execution_count": 20,
   "id": "56906b63",
   "metadata": {},
   "outputs": [
    {
     "name": "stdout",
     "output_type": "stream",
     "text": [
      "HELLO WORLD\n",
      "hello world\n"
     ]
    }
   ],
   "source": [
    "text = \"Hello World\"\n",
    "print(text.upper())  \n",
    "print(text.lower()) "
   ]
  },
  {
   "cell_type": "code",
   "execution_count": null,
   "id": "4ea257d6",
   "metadata": {},
   "outputs": [],
   "source": []
  }
 ],
 "metadata": {
  "kernelspec": {
   "display_name": "Python 3 (ipykernel)",
   "language": "python",
   "name": "python3"
  },
  "language_info": {
   "codemirror_mode": {
    "name": "ipython",
    "version": 3
   },
   "file_extension": ".py",
   "mimetype": "text/x-python",
   "name": "python",
   "nbconvert_exporter": "python",
   "pygments_lexer": "ipython3",
   "version": "3.11.5"
  }
 },
 "nbformat": 4,
 "nbformat_minor": 5
}
