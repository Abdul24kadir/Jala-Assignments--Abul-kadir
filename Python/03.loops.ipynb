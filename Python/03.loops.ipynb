{
 "cells": [
  {
   "cell_type": "markdown",
   "id": "ab5321f4",
   "metadata": {},
   "source": [
    "# 3.loops"
   ]
  },
  {
   "cell_type": "markdown",
   "id": "7749d678",
   "metadata": {},
   "source": [
    "### 1. Write a program to print  “Bright IT Career”  ten times using for loop "
   ]
  },
  {
   "cell_type": "code",
   "execution_count": 1,
   "id": "a8162abe",
   "metadata": {},
   "outputs": [
    {
     "name": "stdout",
     "output_type": "stream",
     "text": [
      "Bright IT Career\n",
      "Bright IT Career\n",
      "Bright IT Career\n",
      "Bright IT Career\n",
      "Bright IT Career\n",
      "Bright IT Career\n",
      "Bright IT Career\n",
      "Bright IT Career\n",
      "Bright IT Career\n",
      "Bright IT Career\n"
     ]
    }
   ],
   "source": [
    "for i in range(10):\n",
    "    print(\"Bright IT Career\")\n"
   ]
  },
  {
   "cell_type": "code",
   "execution_count": 2,
   "id": "dc57167a",
   "metadata": {},
   "outputs": [
    {
     "name": "stdout",
     "output_type": "stream",
     "text": [
      "Bright IT Career\n",
      "Bright IT Career\n",
      "Bright IT Career\n",
      "Bright IT Career\n",
      "Bright IT Career\n",
      "Bright IT Career\n",
      "Bright IT Career\n",
      "Bright IT Career\n",
      "Bright IT Career\n",
      "Bright IT Career\n"
     ]
    }
   ],
   "source": [
    "it_career = \"Bright IT Career\"\n",
    "for i in range(10):\n",
    "    print(it_career)"
   ]
  },
  {
   "cell_type": "markdown",
   "id": "76e868b7",
   "metadata": {},
   "source": [
    "### 2. Write a java program to print 1 to 20 numbers using the while loop."
   ]
  },
  {
   "cell_type": "code",
   "execution_count": 3,
   "id": "badaebae",
   "metadata": {},
   "outputs": [
    {
     "name": "stdout",
     "output_type": "stream",
     "text": [
      "1\n",
      "2\n",
      "3\n",
      "4\n",
      "5\n",
      "6\n",
      "7\n",
      "8\n",
      "9\n",
      "10\n",
      "11\n",
      "12\n",
      "13\n",
      "14\n",
      "15\n",
      "16\n",
      "17\n",
      "18\n",
      "19\n",
      "20\n"
     ]
    }
   ],
   "source": [
    "i = 1 \n",
    "while i<=20:\n",
    "    print(i)\n",
    "    i=i+1 #i+=1"
   ]
  },
  {
   "cell_type": "markdown",
   "id": "0f354fbb",
   "metadata": {},
   "source": [
    "### 3. Program to equal operator and not equal operators "
   ]
  },
  {
   "cell_type": "code",
   "execution_count": 4,
   "id": "a220ec17",
   "metadata": {},
   "outputs": [
    {
     "name": "stdout",
     "output_type": "stream",
     "text": [
      "a and b are not equal\n",
      "a and b are not equal\n"
     ]
    }
   ],
   "source": [
    "a = 5\n",
    "b = 10\n",
    "\n",
    "for i in range(1):\n",
    "    if a == b:\n",
    "        print(\"a and b are equal\")\n",
    "    else:\n",
    "        print(\"a and b are not equal\")\n",
    "\n",
    "    if a != b:\n",
    "        print(\"a and b are not equal\")\n",
    "    else:\n",
    "        print(\"a and b are equal\")\n"
   ]
  },
  {
   "cell_type": "markdown",
   "id": "050b4deb",
   "metadata": {},
   "source": [
    "### 4. Write a program to print the odd and even numbers. \n"
   ]
  },
  {
   "cell_type": "code",
   "execution_count": 5,
   "id": "f6f0a071",
   "metadata": {},
   "outputs": [
    {
     "name": "stdout",
     "output_type": "stream",
     "text": [
      "1 is Odd\n",
      "2 is Even\n",
      "3 is Odd\n",
      "4 is Even\n",
      "5 is Odd\n",
      "6 is Even\n",
      "7 is Odd\n",
      "8 is Even\n",
      "9 is Odd\n",
      "10 is Even\n"
     ]
    }
   ],
   "source": [
    "for i in range(1, 11):\n",
    "    if i % 2 == 0:\n",
    "        print(i, \"is Even\")\n",
    "    else:\n",
    "        print(i, \"is Odd\")\n"
   ]
  },
  {
   "cell_type": "markdown",
   "id": "787039f3",
   "metadata": {},
   "source": [
    "### 5. Write a program to print largest number among three numbers. \n"
   ]
  },
  {
   "cell_type": "code",
   "execution_count": 6,
   "id": "a3bae7be",
   "metadata": {},
   "outputs": [
    {
     "name": "stdout",
     "output_type": "stream",
     "text": [
      "Largest number is: 50\n"
     ]
    }
   ],
   "source": [
    "a = 25\n",
    "b = 50\n",
    "c = 30\n",
    "for i in range(1):\n",
    "    if a > b and a > c:\n",
    "        print(\"Largest number is:\", a)\n",
    "    elif b > c:\n",
    "        print(\"Largest number is:\", b)\n",
    "    else:\n",
    "        print(\"Largest number is:\", c)\n",
    "\n"
   ]
  },
  {
   "cell_type": "markdown",
   "id": "d9223371",
   "metadata": {},
   "source": [
    "### 6. Write a  program to print even number between 10 and 20 using while \n"
   ]
  },
  {
   "cell_type": "code",
   "execution_count": 7,
   "id": "4b379f7c",
   "metadata": {},
   "outputs": [
    {
     "name": "stdout",
     "output_type": "stream",
     "text": [
      "10 is Even\n",
      "11 is Odd\n",
      "12 is Even\n",
      "13 is Odd\n",
      "14 is Even\n",
      "15 is Odd\n",
      "16 is Even\n",
      "17 is Odd\n",
      "18 is Even\n",
      "19 is Odd\n",
      "20 is Even\n"
     ]
    }
   ],
   "source": [
    "for i in range(10,21):\n",
    "    if i % 2 == 0:\n",
    "        print(i, \"is Even\")\n",
    "    else:\n",
    "        print(i, \"is Odd\")\n"
   ]
  },
  {
   "cell_type": "markdown",
   "id": "ac098cd6",
   "metadata": {},
   "source": [
    "### 7. Write a program to print 1 to 10 using the do-while loop statement. "
   ]
  },
  {
   "cell_type": "code",
   "execution_count": 8,
   "id": "0fd274ee",
   "metadata": {},
   "outputs": [],
   "source": [
    " #Python doesn’t have a native do-while loop"
   ]
  },
  {
   "cell_type": "markdown",
   "id": "3ab71612",
   "metadata": {},
   "source": [
    " ### 8. Write a program to find Armstrong number or not"
   ]
  },
  {
   "cell_type": "code",
   "execution_count": 9,
   "id": "03a703dc",
   "metadata": {},
   "outputs": [
    {
     "name": "stdout",
     "output_type": "stream",
     "text": [
      "153 is an Armstrong number.\n"
     ]
    }
   ],
   "source": [
    "#sum of cude of a num = the original num is an armstrong num\n",
    "num = 153\n",
    "sum = 0\n",
    "temp = num\n",
    "while temp > 0:\n",
    "    digit = temp % 10\n",
    "    sum += digit ** 3\n",
    "    temp //= 10\n",
    "\n",
    "if num == sum:\n",
    "    print(num, \"is an Armstrong number.\")\n",
    "else:\n",
    "    print(num, \"is not an Armstrong number.\")\n"
   ]
  },
  {
   "cell_type": "markdown",
   "id": "0c612fb5",
   "metadata": {},
   "source": [
    "### 9. Write a program to find the prime or not. \n"
   ]
  },
  {
   "cell_type": "code",
   "execution_count": 10,
   "id": "864f06c6",
   "metadata": {},
   "outputs": [
    {
     "name": "stdout",
     "output_type": "stream",
     "text": [
      "17 is a prime number.\n"
     ]
    }
   ],
   "source": [
    "num = 17\n",
    "\n",
    "if num > 1:\n",
    "    for i in range(2, int(num / 2) + 1):\n",
    "        if (num % i) == 0:\n",
    "            print(num, \"is not a prime number.\")\n",
    "            break\n",
    "    else:\n",
    "        print(num, \"is a prime number.\")\n",
    "else:\n",
    "    print(num, \"is not a prime number.\")\n"
   ]
  },
  {
   "cell_type": "markdown",
   "id": "45ff7037",
   "metadata": {},
   "source": [
    "### 10. Write a program to palindrome or not. "
   ]
  },
  {
   "cell_type": "code",
   "execution_count": 11,
   "id": "d644a2e7",
   "metadata": {},
   "outputs": [
    {
     "name": "stdout",
     "output_type": "stream",
     "text": [
      "12121 is not a palindrome\n"
     ]
    }
   ],
   "source": [
    "num = 12121\n",
    "sum = 0\n",
    "temp = num \n",
    "while temp!=0:\n",
    "    digit = temp % 10\n",
    "    sum = sum + digit*10\n",
    "    temp = temp //10\n",
    "if num == sum :\n",
    "    print(num,\"is a palindrome\")\n",
    "else:\n",
    "    print(num,\"is not a palindrome\")"
   ]
  },
  {
   "cell_type": "markdown",
   "id": "60299a0c",
   "metadata": {},
   "source": [
    "### 11. Program to check whether a number is EVEN or ODD using switch "
   ]
  },
  {
   "cell_type": "code",
   "execution_count": 12,
   "id": "dfa69006",
   "metadata": {},
   "outputs": [
    {
     "name": "stdout",
     "output_type": "stream",
     "text": [
      "Number is: Even\n",
      "Number is: Odd\n"
     ]
    }
   ],
   "source": [
    "def even_odd(n):\n",
    "    switch = {\n",
    "        0: \"Even\",\n",
    "        1: \"Odd\"\n",
    "    }\n",
    "    print(\"Number is:\", switch[n % 2])\n",
    "\n",
    "even_odd(8)\n",
    "even_odd(9)\n"
   ]
  },
  {
   "cell_type": "markdown",
   "id": "370e8d96",
   "metadata": {},
   "source": [
    "### 12. Print gender (Male/Female) program according to given M/F using switch "
   ]
  },
  {
   "cell_type": "code",
   "execution_count": 19,
   "id": "e4b4e9c0",
   "metadata": {},
   "outputs": [
    {
     "name": "stdout",
     "output_type": "stream",
     "text": [
      "Male\n",
      "Female\n"
     ]
    }
   ],
   "source": [
    "def Male_female(ch):\n",
    "    switch={\n",
    "        'M':\"Male\",\n",
    "        'F':\"Female\"\n",
    "    }\n",
    "    print(switch.get(ch, \"Invalid input\"))\n",
    "Male_female('M')\n",
    "Male_female('F')"
   ]
  },
  {
   "cell_type": "code",
   "execution_count": null,
   "id": "d1c35561",
   "metadata": {},
   "outputs": [],
   "source": []
  }
 ],
 "metadata": {
  "kernelspec": {
   "display_name": "Python 3 (ipykernel)",
   "language": "python",
   "name": "python3"
  },
  "language_info": {
   "codemirror_mode": {
    "name": "ipython",
    "version": 3
   },
   "file_extension": ".py",
   "mimetype": "text/x-python",
   "name": "python",
   "nbconvert_exporter": "python",
   "pygments_lexer": "ipython3",
   "version": "3.11.5"
  }
 },
 "nbformat": 4,
 "nbformat_minor": 5
}
