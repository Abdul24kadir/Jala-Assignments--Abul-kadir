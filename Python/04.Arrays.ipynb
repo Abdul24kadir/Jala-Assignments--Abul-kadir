{
 "cells": [
  {
   "cell_type": "markdown",
   "id": "d8bd56e3",
   "metadata": {},
   "source": [
    "### 1. Write a function to add integer values of an array \n"
   ]
  },
  {
   "cell_type": "code",
   "execution_count": 1,
   "id": "22e1984d",
   "metadata": {},
   "outputs": [
    {
     "name": "stdout",
     "output_type": "stream",
     "text": [
      "10\n"
     ]
    }
   ],
   "source": [
    "def add_array_elements(arr):\n",
    "    return sum(arr)\n",
    "\n",
    "print(add_array_elements([1, 2, 3, 4]))"
   ]
  },
  {
   "cell_type": "markdown",
   "id": "3700cf84",
   "metadata": {},
   "source": [
    "### 2. Write a function to calculate the average value of an array of integers "
   ]
  },
  {
   "cell_type": "code",
   "execution_count": 2,
   "id": "82b5af56",
   "metadata": {},
   "outputs": [
    {
     "name": "stdout",
     "output_type": "stream",
     "text": [
      "2.5\n"
     ]
    }
   ],
   "source": [
    "def average_array(arr):\n",
    "    return sum(arr) / len(arr) if arr else 0\n",
    "\n",
    "print(average_array([1, 2, 3, 4]))\n"
   ]
  },
  {
   "cell_type": "markdown",
   "id": "ec91ecc0",
   "metadata": {},
   "source": [
    "### 3. Write a program to find the index of an array element "
   ]
  },
  {
   "cell_type": "code",
   "execution_count": 3,
   "id": "2ec40605",
   "metadata": {},
   "outputs": [
    {
     "name": "stdout",
     "output_type": "stream",
     "text": [
      "2\n"
     ]
    }
   ],
   "source": [
    "def find_index(arr, value):\n",
    "    return arr.index(value) if value in arr else -1\n",
    "\n",
    "print(find_index([10, 20, 30, 40], 30))\n"
   ]
  },
  {
   "cell_type": "markdown",
   "id": "38fe46c6",
   "metadata": {},
   "source": [
    "### 4. Write a function to test if array contains a specific value \n",
    " "
   ]
  },
  {
   "cell_type": "code",
   "execution_count": 4,
   "id": "d0765433",
   "metadata": {},
   "outputs": [
    {
     "name": "stdout",
     "output_type": "stream",
     "text": [
      "True\n"
     ]
    }
   ],
   "source": [
    "def contains_value(arr, value):\n",
    "    return value in arr\n",
    "\n",
    "print(contains_value([10, 20, 30, 40], 20))\n"
   ]
  },
  {
   "cell_type": "markdown",
   "id": "6d0d8bdf",
   "metadata": {},
   "source": [
    "### 5. Write a function to remove a specific element from an array "
   ]
  },
  {
   "cell_type": "code",
   "execution_count": 5,
   "id": "d0a3800e",
   "metadata": {},
   "outputs": [
    {
     "name": "stdout",
     "output_type": "stream",
     "text": [
      "[1, 3, 4]\n"
     ]
    }
   ],
   "source": [
    "def remove_element(arr, value):\n",
    "    return [x for x in arr if x != value]\n",
    "\n",
    "print(remove_element([1, 2, 3, 2, 4], 2))\n"
   ]
  },
  {
   "cell_type": "markdown",
   "id": "724e5c0c",
   "metadata": {},
   "source": [
    "### 6. Write a function to copy an array to another array \n"
   ]
  },
  {
   "cell_type": "code",
   "execution_count": 6,
   "id": "b28d619d",
   "metadata": {},
   "outputs": [
    {
     "name": "stdout",
     "output_type": "stream",
     "text": [
      "[10, 20, 30]\n"
     ]
    }
   ],
   "source": [
    "def copy_array(arr):\n",
    "    return arr.copy()\n",
    "\n",
    "original = [10, 20, 30]\n",
    "copy = copy_array(original)\n",
    "print(copy)\n"
   ]
  },
  {
   "cell_type": "markdown",
   "id": "f5c0cce4",
   "metadata": {},
   "source": [
    "### 7. Write a function to insert an element at a specific position in the array \n"
   ]
  },
  {
   "cell_type": "code",
   "execution_count": 7,
   "id": "85ed5098",
   "metadata": {},
   "outputs": [
    {
     "name": "stdout",
     "output_type": "stream",
     "text": [
      "[1, 2, 3, 4]\n"
     ]
    }
   ],
   "source": [
    "\n",
    "def insert_element(arr, value, position):\n",
    "    arr.insert(position, value)\n",
    "    return arr\n",
    "\n",
    "print(insert_element([1, 2, 4], 3, 2))\n",
    "\n"
   ]
  },
  {
   "cell_type": "markdown",
   "id": "596e2ca9",
   "metadata": {},
   "source": [
    "### 8. Write a function to find the minimum and maximum value of an array \n"
   ]
  },
  {
   "cell_type": "code",
   "execution_count": 8,
   "id": "91c1f0cb",
   "metadata": {},
   "outputs": [
    {
     "name": "stdout",
     "output_type": "stream",
     "text": [
      "(5, 30)\n"
     ]
    }
   ],
   "source": [
    "def min_max_array(arr):\n",
    "    return min(arr), max(arr)\n",
    "\n",
    "print(min_max_array([10, 20, 5, 30]))\n"
   ]
  },
  {
   "cell_type": "markdown",
   "id": "acbd4059",
   "metadata": {},
   "source": [
    "### 9. Write a function to reverse an array of integer values \n"
   ]
  },
  {
   "cell_type": "code",
   "execution_count": 9,
   "id": "844904bc",
   "metadata": {},
   "outputs": [
    {
     "name": "stdout",
     "output_type": "stream",
     "text": [
      "[4, 3, 2, 1]\n"
     ]
    }
   ],
   "source": [
    "def reverse_array(arr):\n",
    "    return arr[::-1]\n",
    "\n",
    "print(reverse_array([1, 2, 3, 4]))\n"
   ]
  },
  {
   "cell_type": "markdown",
   "id": "d08849c7",
   "metadata": {},
   "source": [
    "### 10. Write a function to find the duplicate values of an array \n"
   ]
  },
  {
   "cell_type": "code",
   "execution_count": 10,
   "id": "84b86219",
   "metadata": {},
   "outputs": [
    {
     "name": "stdout",
     "output_type": "stream",
     "text": [
      "[2, 4]\n"
     ]
    }
   ],
   "source": [
    "def find_duplicates(arr):\n",
    "    return list(set([x for x in arr if arr.count(x) > 1]))\n",
    "\n",
    "print(find_duplicates([1, 2, 2, 3, 4, 4, 5]))\n"
   ]
  },
  {
   "cell_type": "markdown",
   "id": "0c485489",
   "metadata": {},
   "source": [
    "### 11. Write a program to find the common values between two arrays \n"
   ]
  },
  {
   "cell_type": "code",
   "execution_count": 11,
   "id": "0362103a",
   "metadata": {},
   "outputs": [
    {
     "name": "stdout",
     "output_type": "stream",
     "text": [
      "[2, 3]\n"
     ]
    }
   ],
   "source": [
    "def common_elements(arr1, arr2):\n",
    "    return list(set(arr1) & set(arr2))\n",
    "\n",
    "print(common_elements([1, 2, 3], [2, 3, 4]))\n"
   ]
  },
  {
   "cell_type": "markdown",
   "id": "005206e5",
   "metadata": {},
   "source": [
    "### 12. Write a method to remove duplicate elements from an array \n"
   ]
  },
  {
   "cell_type": "code",
   "execution_count": 12,
   "id": "180ae0f3",
   "metadata": {},
   "outputs": [
    {
     "name": "stdout",
     "output_type": "stream",
     "text": [
      "[1, 2, 3, 4]\n"
     ]
    }
   ],
   "source": [
    "def remove_duplicates(arr):\n",
    "    return list(set(arr))\n",
    "\n",
    "print(remove_duplicates([1, 2, 2, 3, 4, 4]))\n"
   ]
  },
  {
   "cell_type": "markdown",
   "id": "13f93884",
   "metadata": {},
   "source": [
    "### 13. Write a method to find the second largest number in an array \n"
   ]
  },
  {
   "cell_type": "code",
   "execution_count": 13,
   "id": "e93bd5c0",
   "metadata": {},
   "outputs": [
    {
     "name": "stdout",
     "output_type": "stream",
     "text": [
      "20\n"
     ]
    }
   ],
   "source": [
    "def second_largest(arr):\n",
    "    unique = list(set(arr))\n",
    "    unique.sort()\n",
    "    return unique[-2] if len(unique) >= 2 else None\n",
    "\n",
    "print(second_largest([10, 20, 30, 20, 10]))\n"
   ]
  },
  {
   "cell_type": "markdown",
   "id": "d0d3c889",
   "metadata": {},
   "source": [
    "### 14. Write a method to find the second largest number in an array \n"
   ]
  },
  {
   "cell_type": "code",
   "execution_count": 14,
   "id": "4442fff1",
   "metadata": {},
   "outputs": [
    {
     "name": "stdout",
     "output_type": "stream",
     "text": [
      "20\n"
     ]
    }
   ],
   "source": [
    "def second_largest(arr):\n",
    "    unique = list(set(arr))\n",
    "    unique.sort()\n",
    "    return unique[-2] if len(unique) >= 2 else None\n",
    "\n",
    "print(second_largest([10, 20, 30, 20, 10]))\n"
   ]
  },
  {
   "cell_type": "markdown",
   "id": "70748162",
   "metadata": {},
   "source": [
    "### 15. Write a method to find number of even number and odd numbers in an array \n"
   ]
  },
  {
   "cell_type": "code",
   "execution_count": 15,
   "id": "99da064e",
   "metadata": {},
   "outputs": [
    {
     "name": "stdout",
     "output_type": "stream",
     "text": [
      "even: 4\n",
      "odd: 3\n"
     ]
    }
   ],
   "source": [
    "def even_odd(arr):\n",
    "    even =0\n",
    "    odd=0\n",
    "    for x in arr:\n",
    "        if x%2==0:\n",
    "            even +=1\n",
    "        else :\n",
    "            odd+=1\n",
    "    print(\"even:\",even)\n",
    "    print(\"odd:\",odd)\n",
    "even_odd([1,2,3,4,56,7,8])"
   ]
  },
  {
   "cell_type": "markdown",
   "id": "b6272c0e",
   "metadata": {},
   "source": [
    "### 16. Write a function to get the difference of largest and smallest value \n"
   ]
  },
  {
   "cell_type": "code",
   "execution_count": 16,
   "id": "6637d60d",
   "metadata": {},
   "outputs": [
    {
     "data": {
      "text/plain": [
       "55"
      ]
     },
     "execution_count": 16,
     "metadata": {},
     "output_type": "execute_result"
    }
   ],
   "source": [
    "def diff(arr):\n",
    "    unique=list(set(arr))\n",
    "    unique.sort()\n",
    "    return unique[-1]-unique[0]\n",
    "diff([23,45,67,12])"
   ]
  },
  {
   "cell_type": "markdown",
   "id": "3b59d4e8",
   "metadata": {},
   "source": [
    "### 17. Write a method to verify if the array contains two specified elements(12,23) \n"
   ]
  },
  {
   "cell_type": "code",
   "execution_count": 17,
   "id": "6a988e8b",
   "metadata": {},
   "outputs": [
    {
     "name": "stdout",
     "output_type": "stream",
     "text": [
      "True\n"
     ]
    }
   ],
   "source": [
    "def contains_12_and_23(arr):\n",
    "    return 12 in arr and 23 in arr\n",
    "\n",
    "print(contains_12_and_23([10, 12, 20, 23]))\n"
   ]
  },
  {
   "cell_type": "markdown",
   "id": "6feabd11",
   "metadata": {},
   "source": [
    "### 18. Write a program to remove the duplicate elements and return the new array"
   ]
  },
  {
   "cell_type": "code",
   "execution_count": 18,
   "id": "85d61d28",
   "metadata": {},
   "outputs": [
    {
     "data": {
      "text/plain": [
       "[12, 45, 23]"
      ]
     },
     "execution_count": 18,
     "metadata": {},
     "output_type": "execute_result"
    }
   ],
   "source": [
    "def clean_duplicates(arr):\n",
    "    return list(set(arr))\n",
    "clean_duplicates([12,23,12,23,45])"
   ]
  }
 ],
 "metadata": {
  "kernelspec": {
   "display_name": "Python 3 (ipykernel)",
   "language": "python",
   "name": "python3"
  },
  "language_info": {
   "codemirror_mode": {
    "name": "ipython",
    "version": 3
   },
   "file_extension": ".py",
   "mimetype": "text/x-python",
   "name": "python",
   "nbconvert_exporter": "python",
   "pygments_lexer": "ipython3",
   "version": "3.11.5"
  }
 },
 "nbformat": 4,
 "nbformat_minor": 5
}
