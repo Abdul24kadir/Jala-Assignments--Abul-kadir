{
 "cells": [
  {
   "cell_type": "markdown",
   "id": "950da1e5",
   "metadata": {},
   "source": [
    "### 1. Define a static variable and access that through a class  \n"
   ]
  },
  {
   "cell_type": "code",
   "execution_count": 3,
   "id": "31f42c89",
   "metadata": {},
   "outputs": [
    {
     "name": "stdout",
     "output_type": "stream",
     "text": [
      "10\n"
     ]
    }
   ],
   "source": [
    "class MyClass:\n",
    "    static_var = 10  \n",
    "\n",
    "print(MyClass.static_var)  "
   ]
  },
  {
   "cell_type": "markdown",
   "id": "bd8a259c",
   "metadata": {},
   "source": [
    "### 2. Define a static variable and access that through a instance \n"
   ]
  },
  {
   "cell_type": "code",
   "execution_count": 4,
   "id": "6d727cb3",
   "metadata": {},
   "outputs": [
    {
     "name": "stdout",
     "output_type": "stream",
     "text": [
      "10\n"
     ]
    }
   ],
   "source": [
    "class MyClass:\n",
    "    static_var = 10\n",
    "\n",
    "obj = MyClass()\n",
    "print(obj.static_var) "
   ]
  },
  {
   "cell_type": "markdown",
   "id": "b96a8893",
   "metadata": {},
   "source": [
    "### 3. Define a static variable and change within the instance \n"
   ]
  },
  {
   "cell_type": "code",
   "execution_count": 5,
   "id": "1c4ace36",
   "metadata": {},
   "outputs": [
    {
     "name": "stdout",
     "output_type": "stream",
     "text": [
      "20\n",
      "10\n"
     ]
    }
   ],
   "source": [
    "class MyClass:\n",
    "    static_var = 10\n",
    "\n",
    "obj = MyClass()\n",
    "obj.static_var = 20\n",
    "\n",
    "print(obj.static_var)    \n",
    "print(MyClass.static_var) "
   ]
  },
  {
   "cell_type": "markdown",
   "id": "82f35f8a",
   "metadata": {},
   "source": [
    "### 4. Define a static variable and change within the class"
   ]
  },
  {
   "cell_type": "code",
   "execution_count": 7,
   "id": "2a6fe71e",
   "metadata": {},
   "outputs": [
    {
     "name": "stdout",
     "output_type": "stream",
     "text": [
      "30\n",
      "30\n",
      "30\n"
     ]
    }
   ],
   "source": [
    "class MyClass:\n",
    "    static_var = 10\n",
    "\n",
    "MyClass.static_var = 30\n",
    "\n",
    "obj1 = MyClass()\n",
    "obj2 = MyClass()\n",
    "\n",
    "print(obj1.static_var)  \n",
    "print(obj2.static_var)\n",
    "print(MyClass.static_var)  \n"
   ]
  },
  {
   "cell_type": "code",
   "execution_count": null,
   "id": "ea6de6ee",
   "metadata": {},
   "outputs": [],
   "source": []
  }
 ],
 "metadata": {
  "kernelspec": {
   "display_name": "Python 3 (ipykernel)",
   "language": "python",
   "name": "python3"
  },
  "language_info": {
   "codemirror_mode": {
    "name": "ipython",
    "version": 3
   },
   "file_extension": ".py",
   "mimetype": "text/x-python",
   "name": "python",
   "nbconvert_exporter": "python",
   "pygments_lexer": "ipython3",
   "version": "3.11.5"
  }
 },
 "nbformat": 4,
 "nbformat_minor": 5
}
