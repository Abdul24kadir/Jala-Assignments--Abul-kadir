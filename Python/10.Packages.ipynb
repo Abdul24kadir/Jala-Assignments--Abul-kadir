{
 "cells": [
  {
   "cell_type": "markdown",
   "id": "0e751440",
   "metadata": {},
   "source": [
    "# 10.Packages"
   ]
  },
  {
   "cell_type": "markdown",
   "id": "c51129b8",
   "metadata": {},
   "source": [
    "# 1. Create a program to create two class.\n",
    "1.1. Create a constructor and a method for each class\n",
    "\n",
    "1.2. Create a __init__.py for adding all packages \n",
    "\n",
    "1.3. Import the respective packages \n",
    "\n",
    "1.4. Call each class by creating an object to it \n",
    "\n",
    "1.5. Create a program by all the above"
   ]
  },
  {
   "cell_type": "code",
   "execution_count": 6,
   "id": "4f0d5cf5",
   "metadata": {},
   "outputs": [
    {
     "name": "stdout",
     "output_type": "stream",
     "text": [
      "Buddy says Woof!\n",
      "Whiskers says Meow!\n"
     ]
    }
   ],
   "source": [
    "# Simulating dog.py\n",
    "class Dog:\n",
    "    def __init__(self, name):\n",
    "        self.name = name\n",
    "\n",
    "    def speak(self):\n",
    "        print(f\"{self.name} says Woof!\")\n",
    "\n",
    "\n",
    "# Simulating cat.py\n",
    "class Cat:\n",
    "    def __init__(self, name):\n",
    "        self.name = name\n",
    "\n",
    "    def speak(self):\n",
    "        print(f\"{self.name} says Meow!\")\n",
    "\n",
    "\n",
    "# Simulating __init__.py (package initializer)\n",
    "class AnimalsPackage:\n",
    "    Dog = Dog\n",
    "    Cat = Cat\n",
    "\n",
    "\n",
    "# Main program (importing and using the package)\n",
    "def main():\n",
    "    # Import simulated package\n",
    "    Package = AnimalsPackage\n",
    "\n",
    "    # Create object for Dog class\n",
    "    dog1 = Package.Dog(\"Buddy\")\n",
    "    dog1.speak()\n",
    "\n",
    "    # Create object for Cat class\n",
    "    cat1 = Package.Cat(\"Whiskers\")\n",
    "    cat1.speak()\n",
    "\n",
    "\n",
    "# Run main\n",
    "if __name__ == \"__main__\":\n",
    "    main()\n"
   ]
  },
  {
   "cell_type": "code",
   "execution_count": null,
   "id": "84b4146f",
   "metadata": {},
   "outputs": [],
   "source": []
  }
 ],
 "metadata": {
  "kernelspec": {
   "display_name": "Python 3 (ipykernel)",
   "language": "python",
   "name": "python3"
  },
  "language_info": {
   "codemirror_mode": {
    "name": "ipython",
    "version": 3
   },
   "file_extension": ".py",
   "mimetype": "text/x-python",
   "name": "python",
   "nbconvert_exporter": "python",
   "pygments_lexer": "ipython3",
   "version": "3.11.5"
  }
 },
 "nbformat": 4,
 "nbformat_minor": 5
}
