{
 "cells": [
  {
   "cell_type": "markdown",
   "id": "f00e0dbd",
   "metadata": {},
   "source": [
    "# 13.Method Overloading"
   ]
  },
  {
   "cell_type": "markdown",
   "id": "447a1bfe",
   "metadata": {},
   "source": [
    "### 1. Write two methods with the same name but different number of parameters of same type and call the methods  \n"
   ]
  },
  {
   "cell_type": "code",
   "execution_count": 1,
   "id": "24218cbc",
   "metadata": {},
   "outputs": [
    {
     "name": "stdout",
     "output_type": "stream",
     "text": [
      "One parameter: 10\n",
      "Two parameters: 30\n"
     ]
    }
   ],
   "source": [
    "class Calculator:\n",
    "    def add(self, a, b=None):\n",
    "        if b is None:\n",
    "            print(\"One parameter:\", a)\n",
    "        else:\n",
    "            print(\"Two parameters:\", a + b)\n",
    "\n",
    "# Create object and call methods\n",
    "obj = Calculator()\n",
    "obj.add(10)\n",
    "obj.add(10, 20)\n"
   ]
  },
  {
   "cell_type": "markdown",
   "id": "8fc3a744",
   "metadata": {},
   "source": [
    "### 2. Write two methods with the same name but different number of parameters of different data type and call the methods  \n"
   ]
  },
  {
   "cell_type": "code",
   "execution_count": 2,
   "id": "877b1ab5",
   "metadata": {},
   "outputs": [
    {
     "name": "stdout",
     "output_type": "stream",
     "text": [
      "Integer value: 100\n",
      "String value: Hello\n",
      "Two values: Hello, 200\n"
     ]
    }
   ],
   "source": [
    "class ShowData:\n",
    "    def display(self, a=None, b=None):\n",
    "        if b is None:\n",
    "            if isinstance(a, int):\n",
    "                print(f\"Integer value: {a}\")\n",
    "            elif isinstance(a, str):\n",
    "                print(f\"String value: {a}\")\n",
    "        else:\n",
    "            print(f\"Two values: {a}, {b}\")\n",
    "\n",
    "# Create object and call methods\n",
    "obj = ShowData()\n",
    "obj.display(100)\n",
    "obj.display(\"Hello\")\n",
    "obj.display(\"Hello\", 200)\n"
   ]
  },
  {
   "cell_type": "markdown",
   "id": "2cd1f25a",
   "metadata": {},
   "source": [
    "### 3. Write two methods with the same name and same number of parameters of same type "
   ]
  },
  {
   "cell_type": "code",
   "execution_count": 3,
   "id": "037e312e",
   "metadata": {},
   "outputs": [
    {
     "name": "stdout",
     "output_type": "stream",
     "text": [
      "Sum: 15\n",
      "Sum: 40\n"
     ]
    }
   ],
   "source": [
    "class Example:\n",
    "    def show(self, a, b):\n",
    "        print(\"Sum:\", a + b)\n",
    "\n",
    "    # If we attempt to declare another show(self, a, b) — it would overwrite the above\n",
    "\n",
    "# Create object and call method\n",
    "obj = Example()\n",
    "obj.show(5, 10)\n",
    "obj.show(15, 25)\n"
   ]
  },
  {
   "cell_type": "code",
   "execution_count": null,
   "id": "d0a43241",
   "metadata": {},
   "outputs": [],
   "source": []
  }
 ],
 "metadata": {
  "kernelspec": {
   "display_name": "Python 3 (ipykernel)",
   "language": "python",
   "name": "python3"
  },
  "language_info": {
   "codemirror_mode": {
    "name": "ipython",
    "version": 3
   },
   "file_extension": ".py",
   "mimetype": "text/x-python",
   "name": "python",
   "nbconvert_exporter": "python",
   "pygments_lexer": "ipython3",
   "version": "3.11.5"
  }
 },
 "nbformat": 4,
 "nbformat_minor": 5
}
