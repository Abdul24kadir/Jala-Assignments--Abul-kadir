{
 "cells": [
  {
   "cell_type": "markdown",
   "id": "c49cce3d",
   "metadata": {},
   "source": [
    "# 8.Access Modifiers"
   ]
  },
  {
   "cell_type": "markdown",
   "id": "2ef095f2",
   "metadata": {},
   "source": [
    "### 1. Create a class with PRIVATE fields, private method and a main method. Print the fields \n",
    "in main method. Call the private method in main method. \n",
    "Create a sub class and try to access the private fields and methods from sub class. "
   ]
  },
  {
   "cell_type": "code",
   "execution_count": 1,
   "id": "1f1bed11",
   "metadata": {},
   "outputs": [
    {
     "name": "stdout",
     "output_type": "stream",
     "text": [
      "Private Field\n",
      "Private Method\n",
      "Can't access private fields or methods from subclass\n"
     ]
    }
   ],
   "source": [
    "class A:\n",
    "    def __init__(self):\n",
    "        self.__private_field = \"Private Field\"\n",
    "\n",
    "    def __private_method(self):\n",
    "        print(\"Private Method\")\n",
    "\n",
    "    def main(self):\n",
    "        print(self.__private_field)\n",
    "        self.__private_method()\n",
    "\n",
    "# Instantiate and call main\n",
    "a = A()\n",
    "a.main()\n",
    "\n",
    "# Subclass trying to access private members\n",
    "class B(A):\n",
    "    def access_private(self):\n",
    "        # print(self.__private_field)   # ❌ AttributeError\n",
    "        # self.__private_method()       # ❌ AttributeError\n",
    "        print(\"Can't access private fields or methods from subclass\")\n",
    "\n",
    "b = B()\n",
    "b.access_private()\n"
   ]
  },
  {
   "cell_type": "markdown",
   "id": "fb8accf0",
   "metadata": {},
   "source": [
    "### 2. Create a class with PROTECTED fields and methods. Access these fields and methods \n",
    "from any other class in the same package.  \n",
    "Also, Access the PROTECTED fields and methods from child class located in a different \n",
    "package \n",
    "Access the PROTECTED fields and methods from any class in different package "
   ]
  },
  {
   "cell_type": "code",
   "execution_count": 2,
   "id": "9bb22365",
   "metadata": {},
   "outputs": [
    {
     "name": "stdout",
     "output_type": "stream",
     "text": [
      "Protected Field\n",
      "Protected Method\n"
     ]
    }
   ],
   "source": [
    "class C:\n",
    "    def __init__(self):\n",
    "        self._protected_field = \"Protected Field\"\n",
    "\n",
    "    def _protected_method(self):\n",
    "        print(\"Protected Method\")\n",
    "\n",
    "# Access from same package (same file in Python)\n",
    "c = C()\n",
    "print(c._protected_field)\n",
    "c._protected_method()\n"
   ]
  },
  {
   "cell_type": "code",
   "execution_count": 3,
   "id": "c6dfdd06",
   "metadata": {},
   "outputs": [
    {
     "name": "stdout",
     "output_type": "stream",
     "text": [
      "Protected Field\n",
      "Protected Method\n"
     ]
    }
   ],
   "source": [
    "class D(C):\n",
    "    def access_protected(self):\n",
    "        print(self._protected_field)\n",
    "        self._protected_method()\n",
    "\n",
    "d = D()\n",
    "d.access_protected()\n"
   ]
  },
  {
   "cell_type": "markdown",
   "id": "563d2e8e",
   "metadata": {},
   "source": [
    "### 3. Create a class with PUBLIC fields and methods.  \n",
    "Access the public methods and fields from any class in the same package or different \n",
    "package. "
   ]
  },
  {
   "cell_type": "code",
   "execution_count": 4,
   "id": "4c637802",
   "metadata": {},
   "outputs": [
    {
     "name": "stdout",
     "output_type": "stream",
     "text": [
      "Public Field\n",
      "Public Method\n"
     ]
    }
   ],
   "source": [
    "class E:\n",
    "    def __init__(self):\n",
    "        self.public_field = \"Public Field\"\n",
    "\n",
    "    def public_method(self):\n",
    "        print(\"Public Method\")\n",
    "\n",
    "e = E()\n",
    "print(e.public_field)\n",
    "e.public_method()\n"
   ]
  },
  {
   "cell_type": "code",
   "execution_count": null,
   "id": "5d98a780",
   "metadata": {},
   "outputs": [],
   "source": []
  }
 ],
 "metadata": {
  "kernelspec": {
   "display_name": "Python 3 (ipykernel)",
   "language": "python",
   "name": "python3"
  },
  "language_info": {
   "codemirror_mode": {
    "name": "ipython",
    "version": 3
   },
   "file_extension": ".py",
   "mimetype": "text/x-python",
   "name": "python",
   "nbconvert_exporter": "python",
   "pygments_lexer": "ipython3",
   "version": "3.11.5"
  }
 },
 "nbformat": 4,
 "nbformat_minor": 5
}
