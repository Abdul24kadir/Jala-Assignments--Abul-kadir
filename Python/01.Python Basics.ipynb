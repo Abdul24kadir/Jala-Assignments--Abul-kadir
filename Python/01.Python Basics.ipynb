{
 "cells": [
  {
   "cell_type": "markdown",
   "id": "8f12aeb0",
   "metadata": {},
   "source": [
    "# 1.Python basics"
   ]
  },
  {
   "cell_type": "markdown",
   "id": "4e3c7023",
   "metadata": {},
   "source": [
    "### 1. Write a program to print your name.  #"
   ]
  },
  {
   "cell_type": "code",
   "execution_count": 1,
   "id": "9400c3c7",
   "metadata": {},
   "outputs": [
    {
     "name": "stdout",
     "output_type": "stream",
     "text": [
      "Mohammad Abdul Kadir JIlanee\n"
     ]
    }
   ],
   "source": [
    "print(\"Mohammad Abdul Kadir Jilanee\")"
   ]
  },
  {
   "cell_type": "code",
   "execution_count": 3,
   "id": "437dc39a",
   "metadata": {},
   "outputs": [
    {
     "data": {
      "text/plain": [
       "'Mohammad Abdul Kadir Jilanee '"
      ]
     },
     "execution_count": 3,
     "metadata": {},
     "output_type": "execute_result"
    }
   ],
   "source": [
    "name = \"Mohammad Abdul Kadir Jilanee \"\n",
    "name"
   ]
  },
  {
   "cell_type": "code",
   "execution_count": 4,
   "id": "2b0e3002",
   "metadata": {},
   "outputs": [
    {
     "name": "stdout",
     "output_type": "stream",
     "text": [
      "Mohammad Abdul Kadir Jilanee \n"
     ]
    }
   ],
   "source": [
    "print(name)"
   ]
  },
  {
   "cell_type": "markdown",
   "id": "6a6ceffd",
   "metadata": {},
   "source": [
    "### 2. Write a program for a Single line comment and multi-line comments "
   ]
  },
  {
   "cell_type": "code",
   "execution_count": 6,
   "id": "5a2c50ee",
   "metadata": {},
   "outputs": [],
   "source": [
    "# This is a single line comment"
   ]
  },
  {
   "cell_type": "code",
   "execution_count": 9,
   "id": "dd522a20",
   "metadata": {},
   "outputs": [
    {
     "data": {
      "text/plain": [
       "'\\nmultiline comment \\nin python \\n'"
      ]
     },
     "execution_count": 9,
     "metadata": {},
     "output_type": "execute_result"
    }
   ],
   "source": [
    "\"\"\"\n",
    "multiline comment \n",
    "in python \n",
    "\"\"\""
   ]
  },
  {
   "cell_type": "code",
   "execution_count": 10,
   "id": "a6944b4c",
   "metadata": {},
   "outputs": [],
   "source": [
    "#or "
   ]
  },
  {
   "cell_type": "code",
   "execution_count": 11,
   "id": "e842871a",
   "metadata": {},
   "outputs": [],
   "source": [
    "#multiline comment \n",
    "#in python "
   ]
  },
  {
   "cell_type": "markdown",
   "id": "08523381",
   "metadata": {},
   "source": [
    "### 3. Define variables for different Data Types int, Boolean, char, float, double and print on the Console. "
   ]
  },
  {
   "cell_type": "code",
   "execution_count": 12,
   "id": "1cfae688",
   "metadata": {},
   "outputs": [
    {
     "name": "stdout",
     "output_type": "stream",
     "text": [
      "10\n",
      "True\n",
      "A\n",
      "3.14\n",
      "3.1415926535\n"
     ]
    }
   ],
   "source": [
    "int_var = 10               \n",
    "bool_var = True            \n",
    "char_var = 'A'             \n",
    "float_var = 3.14           \n",
    "double_var = 3.1415926535  \n",
    "\n",
    "print(int_var)\n",
    "print(bool_var)\n",
    "print(char_var)\n",
    "print(float_var)\n",
    "print(double_var)\n"
   ]
  },
  {
   "cell_type": "markdown",
   "id": "cc915721",
   "metadata": {},
   "source": [
    "### 4. Define the local and Global variables with the same name and print both variables and understand the scope of the variables "
   ]
  },
  {
   "cell_type": "code",
   "execution_count": 13,
   "id": "c25989e0",
   "metadata": {},
   "outputs": [
    {
     "name": "stdout",
     "output_type": "stream",
     "text": [
      "Inside Function: Local Variable\n",
      "Outside Function: Global Variable\n"
     ]
    }
   ],
   "source": [
    "x = \"Global Variable\"# i am a global varaible\n",
    "\n",
    "def my_function():\n",
    "    x = \"Local Variable\" #i am a local varaiable\n",
    "    print(\"Inside Function:\", x)\n",
    "\n",
    "my_function()\n",
    "print(\"Outside Function:\", x)"
   ]
  },
  {
   "cell_type": "code",
   "execution_count": null,
   "id": "6249a2dc",
   "metadata": {},
   "outputs": [],
   "source": []
  }
 ],
 "metadata": {
  "kernelspec": {
   "display_name": "Python 3 (ipykernel)",
   "language": "python",
   "name": "python3"
  },
  "language_info": {
   "codemirror_mode": {
    "name": "ipython",
    "version": 3
   },
   "file_extension": ".py",
   "mimetype": "text/x-python",
   "name": "python",
   "nbconvert_exporter": "python",
   "pygments_lexer": "ipython3",
   "version": "3.11.5"
  }
 },
 "nbformat": 4,
 "nbformat_minor": 5
}
