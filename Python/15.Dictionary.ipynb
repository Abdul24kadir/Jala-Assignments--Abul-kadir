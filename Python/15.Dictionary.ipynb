{
 "cells": [
  {
   "cell_type": "markdown",
   "id": "acb56d43",
   "metadata": {},
   "source": [
    "# 15.Dictionary"
   ]
  },
  {
   "cell_type": "markdown",
   "id": "b917159c",
   "metadata": {},
   "source": [
    "### 1. Create a Dictionary with at least 5 key value pairs of the Student ID and Name \n"
   ]
  },
  {
   "cell_type": "code",
   "execution_count": 1,
   "id": "2ceff57e",
   "metadata": {},
   "outputs": [
    {
     "name": "stdout",
     "output_type": "stream",
     "text": [
      "{101: 'Ali', 102: 'Sara', 103: 'John', 104: 'Emma', 105: 'Ravi'}\n"
     ]
    }
   ],
   "source": [
    "students = {\n",
    "    101: \"Ali\",\n",
    "    102: \"Sara\",\n",
    "    103: \"John\",\n",
    "    104: \"Emma\",\n",
    "    105: \"Ravi\"\n",
    "}\n",
    "\n",
    "print(students)\n"
   ]
  },
  {
   "cell_type": "markdown",
   "id": "1ca34c80",
   "metadata": {},
   "source": [
    "### 1.1. Adding the values in dictionary "
   ]
  },
  {
   "cell_type": "code",
   "execution_count": 2,
   "id": "4a60658b",
   "metadata": {},
   "outputs": [
    {
     "name": "stdout",
     "output_type": "stream",
     "text": [
      "{101: 'Ali', 102: 'Sara', 103: 'John', 104: 'Emma', 105: 'Ravi', 106: 'Anya'}\n"
     ]
    }
   ],
   "source": [
    "students[106] = \"Anya\"\n",
    "print(students)\n"
   ]
  },
  {
   "cell_type": "markdown",
   "id": "f97c79e2",
   "metadata": {},
   "source": [
    "### 1.2. Updating the values in dictionary \n"
   ]
  },
  {
   "cell_type": "code",
   "execution_count": 4,
   "id": "37901d20",
   "metadata": {},
   "outputs": [
    {
     "name": "stdout",
     "output_type": "stream",
     "text": [
      "{101: 'Ali', 102: 'Sarah', 103: 'John', 104: 'Emma', 105: 'Ravi', 106: 'Anya'}\n"
     ]
    }
   ],
   "source": [
    "students[102] = \"Sarah\"\n",
    "print(students)\n"
   ]
  },
  {
   "cell_type": "markdown",
   "id": "594df080",
   "metadata": {},
   "source": [
    "### 1.3. Accessing the value in dictionary \n"
   ]
  },
  {
   "cell_type": "code",
   "execution_count": 5,
   "id": "dd37ec3f",
   "metadata": {},
   "outputs": [
    {
     "name": "stdout",
     "output_type": "stream",
     "text": [
      "John\n"
     ]
    }
   ],
   "source": [
    "print(students[103])  # Will print 'John'\n"
   ]
  },
  {
   "cell_type": "markdown",
   "id": "ee20a038",
   "metadata": {},
   "source": [
    "### 1.4. Create a nested loop dictionary \n"
   ]
  },
  {
   "cell_type": "code",
   "execution_count": 6,
   "id": "56e353de",
   "metadata": {},
   "outputs": [
    {
     "name": "stdout",
     "output_type": "stream",
     "text": [
      "{201: {'name': 'Ali', 'age': 20}, 202: {'name': 'Sara', 'age': 21}, 203: {'name': 'John', 'age': 19}}\n"
     ]
    }
   ],
   "source": [
    "nested_students = {\n",
    "    201: {\"name\": \"Ali\", \"age\": 20},\n",
    "    202: {\"name\": \"Sara\", \"age\": 21},\n",
    "    203: {\"name\": \"John\", \"age\": 19}\n",
    "}\n",
    "\n",
    "print(nested_students)\n"
   ]
  },
  {
   "cell_type": "markdown",
   "id": "790ca8de",
   "metadata": {},
   "source": [
    "### 1.5. Access the values of nested loop dictionary \n"
   ]
  },
  {
   "cell_type": "code",
   "execution_count": 8,
   "id": "7993b604",
   "metadata": {},
   "outputs": [
    {
     "name": "stdout",
     "output_type": "stream",
     "text": [
      "Student ID: 201\n",
      "  name: Ali\n",
      "  age: 20\n",
      "\n",
      "Student ID: 202\n",
      "  name: Sara\n",
      "  age: 21\n",
      "\n",
      "Student ID: 203\n",
      "  name: John\n",
      "  age: 19\n",
      "\n"
     ]
    }
   ],
   "source": [
    "nested_students = {\n",
    "    201: {\"name\": \"Ali\", \"age\": 20},\n",
    "    202: {\"name\": \"Sara\", \"age\": 21},\n",
    "    203: {\"name\": \"John\", \"age\": 19}\n",
    "}\n",
    "for student_id, details in nested_students.items():\n",
    "    print(\"Student ID:\", student_id)\n",
    "    for key, value in details.items():\n",
    "        print(f\"  {key}: {value}\")\n",
    "    print()  # for spacing\n"
   ]
  },
  {
   "cell_type": "markdown",
   "id": "5bb9ae2d",
   "metadata": {},
   "source": [
    "### 1.6. Print the keys present in a particular dictionary "
   ]
  },
  {
   "cell_type": "code",
   "execution_count": 9,
   "id": "46bd048b",
   "metadata": {},
   "outputs": [
    {
     "name": "stdout",
     "output_type": "stream",
     "text": [
      "dict_keys([101, 102, 103, 104, 105, 106])\n"
     ]
    }
   ],
   "source": [
    "print(students.keys())\n"
   ]
  },
  {
   "cell_type": "markdown",
   "id": "05ea4cfd",
   "metadata": {},
   "source": [
    "### 1.7. Delete a value from a dictionary\n"
   ]
  },
  {
   "cell_type": "code",
   "execution_count": 10,
   "id": "e91b683a",
   "metadata": {},
   "outputs": [
    {
     "name": "stdout",
     "output_type": "stream",
     "text": [
      "{101: 'Ali', 102: 'Sarah', 103: 'John', 105: 'Ravi', 106: 'Anya'}\n"
     ]
    }
   ],
   "source": [
    "del students[104]\n",
    "print(students)\n"
   ]
  },
  {
   "cell_type": "code",
   "execution_count": null,
   "id": "a493e721",
   "metadata": {},
   "outputs": [],
   "source": []
  }
 ],
 "metadata": {
  "kernelspec": {
   "display_name": "Python 3 (ipykernel)",
   "language": "python",
   "name": "python3"
  },
  "language_info": {
   "codemirror_mode": {
    "name": "ipython",
    "version": 3
   },
   "file_extension": ".py",
   "mimetype": "text/x-python",
   "name": "python",
   "nbconvert_exporter": "python",
   "pygments_lexer": "ipython3",
   "version": "3.11.5"
  }
 },
 "nbformat": 4,
 "nbformat_minor": 5
}
