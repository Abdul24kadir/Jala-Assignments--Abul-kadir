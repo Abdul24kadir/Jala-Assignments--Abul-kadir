{
 "cells": [
  {
   "cell_type": "markdown",
   "id": "f6abac34",
   "metadata": {},
   "source": [
    "# 11.FILES "
   ]
  },
  {
   "cell_type": "markdown",
   "id": "63979243",
   "metadata": {},
   "source": [
    "### 1. Write a program to read text file \n"
   ]
  },
  {
   "cell_type": "code",
   "execution_count": 2,
   "id": "b1adc8bc",
   "metadata": {},
   "outputs": [
    {
     "name": "stdout",
     "output_type": "stream",
     "text": [
      "File Content:\n",
      " Microsoft Windows [Version 10.0.19043.1682]\n",
      "(c) Microsoft Corporation. All rights reserved.\n",
      "\n",
      "C:\\Users\\BHARATH>pip list\n",
      "Package         Version\n",
      "--------------- ---------\n",
      "certifi         2017.11.5\n",
      "chardet         3.0.4\n",
      "cycler          0.11.0\n",
      "decorator       4.4.2\n",
      "idna            2.6\n",
      "imageio         2.16.0\n",
      "kiwisolver      1.3.1\n",
      "matplotlib      3.3.4\n",
      "networkx        2.5.1\n",
      "numpy           1.19.5\n",
      "opencv-python   4.5.5.64\n",
      "pandas          1.1.5\n",
      "Pillow          8.4.0\n",
      "pip             21.3.1\n",
      "pyparsing       3.0.7\n",
      "python-dateutil 2.8.2\n",
      "pytz            2022.1\n",
      "PyWavelets      1.1.1\n",
      "requests        2.18.4\n",
      "scikit-image    0.17.2\n",
      "scipy           1.5.4\n",
      "setuptools      28.8.0\n",
      "sipay           1.1.0\n",
      "six             1.16.0\n",
      "tifffile        2020.9.3\n",
      "urllib3         1.22\n",
      "\n",
      "C:\\Users\\BHARATH>\n"
     ]
    }
   ],
   "source": [
    "def read_text_file():\n",
    "    with open(\"C:/Users/abdul/Downloads/edit project/major project/Smart Traffic Control System/ref.txt\", \"r\") as file:\n",
    "        content = file.read()\n",
    "        print(\"File Content:\\n\", content)\n",
    "\n",
    "# Run it\n",
    "read_text_file()\n"
   ]
  },
  {
   "cell_type": "markdown",
   "id": "32dc3e71",
   "metadata": {},
   "source": [
    "### 2. Write a program to write text to .txt file using  InputStream \n"
   ]
  },
  {
   "cell_type": "code",
   "execution_count": 3,
   "id": "2ed7cb97",
   "metadata": {},
   "outputs": [
    {
     "name": "stdout",
     "output_type": "stream",
     "text": [
      "Enter text to write into file: hladnlkjab\n",
      "Text written to output.txt\n"
     ]
    }
   ],
   "source": [
    "def write_text_file():\n",
    "    text = input(\"Enter text to write into file: \")\n",
    "    with open(\"output.txt\", \"w\") as file:\n",
    "        file.write(text)\n",
    "    print(\"Text written to output.txt\")\n",
    "\n",
    "# Run it\n",
    "write_text_file()\n"
   ]
  },
  {
   "cell_type": "markdown",
   "id": "3623144b",
   "metadata": {},
   "source": [
    "### 3. Write a program to read a file stream \n"
   ]
  },
  {
   "cell_type": "code",
   "execution_count": 4,
   "id": "cab7fa00",
   "metadata": {},
   "outputs": [
    {
     "name": "stdout",
     "output_type": "stream",
     "text": [
      "Microsoft Windows [Version 10.0.19043.1682]\n",
      "(c) Microsoft Corporation. All rights reserved.\n",
      "\n",
      "C:\\Users\\BHARATH>pip list\n",
      "Package         Version\n",
      "--------------- ---------\n",
      "certifi         2017.11.5\n",
      "chardet         3.0.4\n",
      "cycler          0.11.0\n",
      "decorator       4.4.2\n",
      "idna            2.6\n",
      "imageio         2.16.0\n",
      "kiwisolver      1.3.1\n",
      "matplotlib      3.3.4\n",
      "networkx        2.5.1\n",
      "numpy           1.19.5\n",
      "opencv-python   4.5.5.64\n",
      "pandas          1.1.5\n",
      "Pillow          8.4.0\n",
      "pip             21.3.1\n",
      "pyparsing       3.0.7\n",
      "python-dateutil 2.8.2\n",
      "pytz            2022.1\n",
      "PyWavelets      1.1.1\n",
      "requests        2.18.4\n",
      "scikit-image    0.17.2\n",
      "scipy           1.5.4\n",
      "setuptools      28.8.0\n",
      "sipay           1.1.0\n",
      "six             1.16.0\n",
      "tifffile        2020.9.3\n",
      "urllib3         1.22\n",
      "\n",
      "C:\\Users\\BHARATH>"
     ]
    }
   ],
   "source": [
    "def read_file_stream():\n",
    "    with open(\"C:/Users/abdul/Downloads/edit project/major project/Smart Traffic Control System/ref.txt\", \"r\") as file:\n",
    "        for line in file:\n",
    "            print(line, end='')\n",
    "\n",
    "# Run it\n",
    "read_file_stream()\n"
   ]
  },
  {
   "cell_type": "markdown",
   "id": "ea31cd80",
   "metadata": {},
   "source": [
    "### 4. Write a program to read a file stream supports random access \n"
   ]
  },
  {
   "cell_type": "code",
   "execution_count": 5,
   "id": "e03c0005",
   "metadata": {},
   "outputs": [
    {
     "name": "stdout",
     "output_type": "stream",
     "text": [
      "File size (bytes): 808\n",
      "First 10 characters: Microsoft \n"
     ]
    }
   ],
   "source": [
    "def random_access_read():\n",
    "    with open(\"C:/Users/abdul/Downloads/edit project/major project/Smart Traffic Control System/ref.txt\", \"r\") as file:\n",
    "        file.seek(0, 2)  # Move to end of file\n",
    "        size = file.tell()\n",
    "        print(\"File size (bytes):\", size)\n",
    "\n",
    "        file.seek(0)  # Move back to start\n",
    "        print(\"First 10 characters:\", file.read(10))\n",
    "\n",
    "# Run it\n",
    "random_access_read()\n"
   ]
  },
  {
   "cell_type": "markdown",
   "id": "7d871dd4",
   "metadata": {},
   "source": [
    "### 5. Write a program to read a file a just to a particular index using seek() \n"
   ]
  },
  {
   "cell_type": "code",
   "execution_count": 6,
   "id": "4c8109e3",
   "metadata": {},
   "outputs": [
    {
     "name": "stdout",
     "output_type": "stream",
     "text": [
      "Text from index 5:\n",
      "soft Windows [Version 10.0.19043.1682]\n",
      "(c) Microsoft Corporation. All rights reserved.\n",
      "\n",
      "C:\\Users\\BHARATH>pip list\n",
      "Package         Version\n",
      "--------------- ---------\n",
      "certifi         2017.11.5\n",
      "chardet         3.0.4\n",
      "cycler          0.11.0\n",
      "decorator       4.4.2\n",
      "idna            2.6\n",
      "imageio         2.16.0\n",
      "kiwisolver      1.3.1\n",
      "matplotlib      3.3.4\n",
      "networkx        2.5.1\n",
      "numpy           1.19.5\n",
      "opencv-python   4.5.5.64\n",
      "pandas          1.1.5\n",
      "Pillow          8.4.0\n",
      "pip             21.3.1\n",
      "pyparsing       3.0.7\n",
      "python-dateutil 2.8.2\n",
      "pytz            2022.1\n",
      "PyWavelets      1.1.1\n",
      "requests        2.18.4\n",
      "scikit-image    0.17.2\n",
      "scipy           1.5.4\n",
      "setuptools      28.8.0\n",
      "sipay           1.1.0\n",
      "six             1.16.0\n",
      "tifffile        2020.9.3\n",
      "urllib3         1.22\n",
      "\n",
      "C:\\Users\\BHARATH>\n"
     ]
    }
   ],
   "source": [
    "def read_specific_index():\n",
    "    with open(\"C:/Users/abdul/Downloads/edit project/major project/Smart Traffic Control System/ref.txt\", \"r\") as file:\n",
    "        file.seek(5)  # Move to byte index 5\n",
    "        print(\"Text from index 5:\")\n",
    "        print(file.read())\n",
    "\n",
    "# Run it\n",
    "read_specific_index()\n"
   ]
  },
  {
   "cell_type": "markdown",
   "id": "f395066a",
   "metadata": {},
   "source": [
    "### 6. Write a program to check whether a file is having read access and write access permissions"
   ]
  },
  {
   "cell_type": "code",
   "execution_count": 8,
   "id": "7d0bff06",
   "metadata": {},
   "outputs": [
    {
     "name": "stdout",
     "output_type": "stream",
     "text": [
      "C:/Users/abdul/Downloads/edit project/major project/Smart Traffic Control System/ref.txtt does NOT have Read access.\n",
      "C:/Users/abdul/Downloads/edit project/major project/Smart Traffic Control System/ref.txtt does NOT have Write access.\n"
     ]
    }
   ],
   "source": [
    "import os\n",
    "\n",
    "def check_permissions(filename):\n",
    "    if os.access(filename, os.R_OK):\n",
    "        print(f\"{filename} has Read access.\")\n",
    "    else:\n",
    "        print(f\"{filename} does NOT have Read access.\")\n",
    "\n",
    "    if os.access(filename, os.W_OK):\n",
    "        print(f\"{filename} has Write access.\")\n",
    "    else:\n",
    "        print(f\"{filename} does NOT have Write access.\")\n",
    "\n",
    "# Run it\n",
    "check_permissions(\"C:/Users/abdul/Downloads/edit project/major project/Smart Traffic Control System/ref.txtt\")\n"
   ]
  },
  {
   "cell_type": "code",
   "execution_count": null,
   "id": "f2adc941",
   "metadata": {},
   "outputs": [],
   "source": []
  }
 ],
 "metadata": {
  "kernelspec": {
   "display_name": "Python 3 (ipykernel)",
   "language": "python",
   "name": "python3"
  },
  "language_info": {
   "codemirror_mode": {
    "name": "ipython",
    "version": 3
   },
   "file_extension": ".py",
   "mimetype": "text/x-python",
   "name": "python",
   "nbconvert_exporter": "python",
   "pygments_lexer": "ipython3",
   "version": "3.11.5"
  }
 },
 "nbformat": 4,
 "nbformat_minor": 5
}
